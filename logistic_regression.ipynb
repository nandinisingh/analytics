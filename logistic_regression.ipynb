{
 "cells": [
  {
   "cell_type": "code",
   "execution_count": 12,
   "metadata": {
    "ExecuteTime": {
     "end_time": "2020-11-20T10:50:12.328890Z",
     "start_time": "2020-11-20T10:50:12.321329Z"
    }
   },
   "outputs": [],
   "source": [
    "import pandas as pd\n",
    "import numpy as np\n",
    "import matplotlib.pyplot as plt\n",
    "\n",
    "%matplotlib inline"
   ]
  },
  {
   "cell_type": "code",
   "execution_count": 13,
   "metadata": {
    "ExecuteTime": {
     "end_time": "2020-11-20T10:50:12.643574Z",
     "start_time": "2020-11-20T10:50:12.632540Z"
    }
   },
   "outputs": [],
   "source": [
    "data = pd.read_csv('logistic_r.csv')"
   ]
  },
  {
   "cell_type": "code",
   "execution_count": 14,
   "metadata": {
    "ExecuteTime": {
     "end_time": "2020-11-20T10:50:13.097244Z",
     "start_time": "2020-11-20T10:50:13.089110Z"
    }
   },
   "outputs": [
    {
     "data": {
      "text/html": [
       "<div>\n",
       "<style scoped>\n",
       "    .dataframe tbody tr th:only-of-type {\n",
       "        vertical-align: middle;\n",
       "    }\n",
       "\n",
       "    .dataframe tbody tr th {\n",
       "        vertical-align: top;\n",
       "    }\n",
       "\n",
       "    .dataframe thead th {\n",
       "        text-align: right;\n",
       "    }\n",
       "</style>\n",
       "<table border=\"1\" class=\"dataframe\">\n",
       "  <thead>\n",
       "    <tr style=\"text-align: right;\">\n",
       "      <th></th>\n",
       "      <th>user_id</th>\n",
       "      <th>gender</th>\n",
       "      <th>age</th>\n",
       "      <th>salary</th>\n",
       "      <th>puchased</th>\n",
       "    </tr>\n",
       "  </thead>\n",
       "  <tbody>\n",
       "    <tr>\n",
       "      <th>0</th>\n",
       "      <td>151890</td>\n",
       "      <td>male</td>\n",
       "      <td>22</td>\n",
       "      <td>20000</td>\n",
       "      <td>0</td>\n",
       "    </tr>\n",
       "    <tr>\n",
       "      <th>1</th>\n",
       "      <td>157927</td>\n",
       "      <td>female</td>\n",
       "      <td>46</td>\n",
       "      <td>50000</td>\n",
       "      <td>0</td>\n",
       "    </tr>\n",
       "    <tr>\n",
       "      <th>2</th>\n",
       "      <td>163964</td>\n",
       "      <td>female</td>\n",
       "      <td>47</td>\n",
       "      <td>25000</td>\n",
       "      <td>0</td>\n",
       "    </tr>\n",
       "    <tr>\n",
       "      <th>3</th>\n",
       "      <td>170001</td>\n",
       "      <td>female</td>\n",
       "      <td>44</td>\n",
       "      <td>70000</td>\n",
       "      <td>1</td>\n",
       "    </tr>\n",
       "    <tr>\n",
       "      <th>4</th>\n",
       "      <td>176038</td>\n",
       "      <td>male</td>\n",
       "      <td>45</td>\n",
       "      <td>32000</td>\n",
       "      <td>0</td>\n",
       "    </tr>\n",
       "  </tbody>\n",
       "</table>\n",
       "</div>"
      ],
      "text/plain": [
       "   user_id  gender  age  salary  puchased\n",
       "0   151890    male   22   20000         0\n",
       "1   157927  female   46   50000         0\n",
       "2   163964  female   47   25000         0\n",
       "3   170001  female   44   70000         1\n",
       "4   176038    male   45   32000         0"
      ]
     },
     "execution_count": 14,
     "metadata": {},
     "output_type": "execute_result"
    }
   ],
   "source": [
    "data.head()"
   ]
  },
  {
   "cell_type": "code",
   "execution_count": 15,
   "metadata": {
    "ExecuteTime": {
     "end_time": "2020-11-20T10:50:14.706028Z",
     "start_time": "2020-11-20T10:50:14.701705Z"
    }
   },
   "outputs": [],
   "source": [
    "# Now, to predict whether a user will purchase the product or not, one needs to find out the relationship \n",
    "# between Age and Estimated Salary. Here User ID and Gender are not important factors for finding out this.\n",
    "\n",
    "# input \n",
    "x = data.iloc[:,[2,3]].values ## basically: only age and salary values\n",
    "\n",
    "# output\n",
    "y = data.iloc[:,4].values ## only whether it was purchased or not"
   ]
  },
  {
   "cell_type": "code",
   "execution_count": 6,
   "metadata": {
    "ExecuteTime": {
     "end_time": "2020-11-16T20:40:15.174397Z",
     "start_time": "2020-11-16T20:40:15.104226Z"
    }
   },
   "outputs": [],
   "source": [
    "# Splitting the dataset to train and test. 75% of data is used for training the model and 25% of it is used to test \n",
    "# the performance of our model.\n",
    "\n",
    "from sklearn.model_selection import train_test_split\n",
    "\n",
    "xtrain, xtest, ytrain, ytest = train_test_split(x, y, test_size = 0.25, random_state =0)"
   ]
  },
  {
   "cell_type": "code",
   "execution_count": 7,
   "metadata": {
    "ExecuteTime": {
     "end_time": "2020-11-16T20:42:18.235183Z",
     "start_time": "2020-11-16T20:42:18.229337Z"
    }
   },
   "outputs": [
    {
     "name": "stdout",
     "output_type": "stream",
     "text": [
      "[[-0.82351334  1.43436951]\n",
      " [ 1.07322384 -1.39619238]\n",
      " [-0.26564946 -0.49630276]\n",
      " [-0.26564946 -0.19361261]\n",
      " [ 1.63108771 -0.11180447]\n",
      " [ 0.18064164  0.89443574]\n",
      " [-1.26980444 -0.13634691]\n",
      " [ 0.06906886 -0.31632484]\n",
      " [-0.37722224  0.53447989]\n",
      " [-1.04665889  0.17452405]]\n"
     ]
    }
   ],
   "source": [
    "# Now, it is very important to perform feature scaling here because Age and Estimated Salary values lie in \n",
    "# different ranges. If we don’t scale the features then Estimated Salary feature will dominate Age feature when \n",
    "# the model finds the nearest neighbor to a data point in data space.\n",
    "\n",
    "from sklearn.preprocessing import StandardScaler\n",
    "\n",
    "sc_x = StandardScaler()\n",
    "xtrain = sc_x.fit_transform(xtrain)\n",
    "xtest = sc_x.transform(xtest)\n",
    "\n",
    "print(xtrain[0:10, :])"
   ]
  },
  {
   "cell_type": "code",
   "execution_count": 8,
   "metadata": {
    "ExecuteTime": {
     "end_time": "2020-11-16T20:45:00.793129Z",
     "start_time": "2020-11-16T20:45:00.784650Z"
    }
   },
   "outputs": [
    {
     "data": {
      "text/plain": [
       "LogisticRegression(random_state=0)"
      ]
     },
     "execution_count": 8,
     "metadata": {},
     "output_type": "execute_result"
    }
   ],
   "source": [
    "# Here we see that the Age and Estimated salary feature values are scaled and now they are in the -1 to 1 range. \n",
    "# Hence, each feature will contribute equally in decision making i.e. finalizing the hypothesis.\n",
    "\n",
    "# Finally, we are training our Logistic Regression model.\n",
    "\n",
    "from sklearn.linear_model import LogisticRegression\n",
    "\n",
    "classifier = LogisticRegression(random_state = 0)\n",
    "classifier.fit(xtrain, ytrain)"
   ]
  },
  {
   "cell_type": "code",
   "execution_count": 9,
   "metadata": {
    "ExecuteTime": {
     "end_time": "2020-11-16T20:45:16.622437Z",
     "start_time": "2020-11-16T20:45:16.620047Z"
    }
   },
   "outputs": [],
   "source": [
    "y_pred = classifier.predict(xtest)"
   ]
  },
  {
   "cell_type": "code",
   "execution_count": 10,
   "metadata": {
    "ExecuteTime": {
     "end_time": "2020-11-16T20:45:51.382147Z",
     "start_time": "2020-11-16T20:45:51.378321Z"
    }
   },
   "outputs": [
    {
     "name": "stdout",
     "output_type": "stream",
     "text": [
      "Confusion Matrix : \n",
      " [[2 2]\n",
      " [0 3]]\n"
     ]
    }
   ],
   "source": [
    "# Let’s test the performance of our model – Confusion Matrix\n",
    "\n",
    "from sklearn.metrics import confusion_matrix \n",
    "cm = confusion_matrix(ytest, y_pred) \n",
    "\n",
    "print (\"Confusion Matrix : \\n\", cm) "
   ]
  },
  {
   "cell_type": "code",
   "execution_count": 11,
   "metadata": {
    "ExecuteTime": {
     "end_time": "2020-11-16T20:46:46.454118Z",
     "start_time": "2020-11-16T20:46:46.450110Z"
    }
   },
   "outputs": [
    {
     "name": "stdout",
     "output_type": "stream",
     "text": [
      "Accuracy :  0.7142857142857143\n"
     ]
    }
   ],
   "source": [
    "# Performance measure - accuracy\n",
    "\n",
    "from sklearn.metrics import accuracy_score \n",
    "print (\"Accuracy : \", accuracy_score(ytest, y_pred)) "
   ]
  },
  {
   "cell_type": "code",
   "execution_count": null,
   "metadata": {},
   "outputs": [],
   "source": []
  }
 ],
 "metadata": {
  "hide_input": false,
  "kernelspec": {
   "display_name": "Python 3",
   "language": "python",
   "name": "python3"
  },
  "language_info": {
   "codemirror_mode": {
    "name": "ipython",
    "version": 3
   },
   "file_extension": ".py",
   "mimetype": "text/x-python",
   "name": "python",
   "nbconvert_exporter": "python",
   "pygments_lexer": "ipython3",
   "version": "3.7.8"
  }
 },
 "nbformat": 4,
 "nbformat_minor": 4
}
